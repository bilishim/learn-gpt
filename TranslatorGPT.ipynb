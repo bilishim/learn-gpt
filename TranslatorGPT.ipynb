{
  "nbformat": 4,
  "nbformat_minor": 0,
  "metadata": {
    "colab": {
      "provenance": []
    },
    "kernelspec": {
      "name": "python3",
      "display_name": "Python 3"
    },
    "language_info": {
      "name": "python"
    },
    "widgets": {
      "application/vnd.jupyter.widget-state+json": {
        "b5212e8141e14e9d9f21c25aa892b402": {
          "model_module": "@jupyter-widgets/controls",
          "model_name": "HBoxModel",
          "model_module_version": "1.5.0",
          "state": {
            "_dom_classes": [],
            "_model_module": "@jupyter-widgets/controls",
            "_model_module_version": "1.5.0",
            "_model_name": "HBoxModel",
            "_view_count": null,
            "_view_module": "@jupyter-widgets/controls",
            "_view_module_version": "1.5.0",
            "_view_name": "HBoxView",
            "box_style": "",
            "children": [
              "IPY_MODEL_be54f65a71a542dfb6184c8ebcc69e2b",
              "IPY_MODEL_f740519e491c472082999c94392df664",
              "IPY_MODEL_7d7c1c69176847e486868e5f6cc0c213"
            ],
            "layout": "IPY_MODEL_66f5c1e675e94ed9b2127dc8acf5902a"
          }
        },
        "be54f65a71a542dfb6184c8ebcc69e2b": {
          "model_module": "@jupyter-widgets/controls",
          "model_name": "HTMLModel",
          "model_module_version": "1.5.0",
          "state": {
            "_dom_classes": [],
            "_model_module": "@jupyter-widgets/controls",
            "_model_module_version": "1.5.0",
            "_model_name": "HTMLModel",
            "_view_count": null,
            "_view_module": "@jupyter-widgets/controls",
            "_view_module_version": "1.5.0",
            "_view_name": "HTMLView",
            "description": "",
            "description_tooltip": null,
            "layout": "IPY_MODEL_3613818e851f49cfb8042f24a88d49c1",
            "placeholder": "​",
            "style": "IPY_MODEL_05bcc1bf1e93406cbacf32370f8a7628",
            "value": "Map: 100%"
          }
        },
        "f740519e491c472082999c94392df664": {
          "model_module": "@jupyter-widgets/controls",
          "model_name": "FloatProgressModel",
          "model_module_version": "1.5.0",
          "state": {
            "_dom_classes": [],
            "_model_module": "@jupyter-widgets/controls",
            "_model_module_version": "1.5.0",
            "_model_name": "FloatProgressModel",
            "_view_count": null,
            "_view_module": "@jupyter-widgets/controls",
            "_view_module_version": "1.5.0",
            "_view_name": "ProgressView",
            "bar_style": "success",
            "description": "",
            "description_tooltip": null,
            "layout": "IPY_MODEL_da5e867efd4f473a93d370b5cfbd2e1d",
            "max": 450,
            "min": 0,
            "orientation": "horizontal",
            "style": "IPY_MODEL_1d7a94fa95ec42d486f312aa7f0a8075",
            "value": 450
          }
        },
        "7d7c1c69176847e486868e5f6cc0c213": {
          "model_module": "@jupyter-widgets/controls",
          "model_name": "HTMLModel",
          "model_module_version": "1.5.0",
          "state": {
            "_dom_classes": [],
            "_model_module": "@jupyter-widgets/controls",
            "_model_module_version": "1.5.0",
            "_model_name": "HTMLModel",
            "_view_count": null,
            "_view_module": "@jupyter-widgets/controls",
            "_view_module_version": "1.5.0",
            "_view_name": "HTMLView",
            "description": "",
            "description_tooltip": null,
            "layout": "IPY_MODEL_f00be311d3594a9988e7c8ef71609f2c",
            "placeholder": "​",
            "style": "IPY_MODEL_2e7952c05f654a2abfd751e54f8b0a09",
            "value": " 450/450 [00:00&lt;00:00, 1320.32 examples/s]"
          }
        },
        "66f5c1e675e94ed9b2127dc8acf5902a": {
          "model_module": "@jupyter-widgets/base",
          "model_name": "LayoutModel",
          "model_module_version": "1.2.0",
          "state": {
            "_model_module": "@jupyter-widgets/base",
            "_model_module_version": "1.2.0",
            "_model_name": "LayoutModel",
            "_view_count": null,
            "_view_module": "@jupyter-widgets/base",
            "_view_module_version": "1.2.0",
            "_view_name": "LayoutView",
            "align_content": null,
            "align_items": null,
            "align_self": null,
            "border": null,
            "bottom": null,
            "display": null,
            "flex": null,
            "flex_flow": null,
            "grid_area": null,
            "grid_auto_columns": null,
            "grid_auto_flow": null,
            "grid_auto_rows": null,
            "grid_column": null,
            "grid_gap": null,
            "grid_row": null,
            "grid_template_areas": null,
            "grid_template_columns": null,
            "grid_template_rows": null,
            "height": null,
            "justify_content": null,
            "justify_items": null,
            "left": null,
            "margin": null,
            "max_height": null,
            "max_width": null,
            "min_height": null,
            "min_width": null,
            "object_fit": null,
            "object_position": null,
            "order": null,
            "overflow": null,
            "overflow_x": null,
            "overflow_y": null,
            "padding": null,
            "right": null,
            "top": null,
            "visibility": null,
            "width": null
          }
        },
        "3613818e851f49cfb8042f24a88d49c1": {
          "model_module": "@jupyter-widgets/base",
          "model_name": "LayoutModel",
          "model_module_version": "1.2.0",
          "state": {
            "_model_module": "@jupyter-widgets/base",
            "_model_module_version": "1.2.0",
            "_model_name": "LayoutModel",
            "_view_count": null,
            "_view_module": "@jupyter-widgets/base",
            "_view_module_version": "1.2.0",
            "_view_name": "LayoutView",
            "align_content": null,
            "align_items": null,
            "align_self": null,
            "border": null,
            "bottom": null,
            "display": null,
            "flex": null,
            "flex_flow": null,
            "grid_area": null,
            "grid_auto_columns": null,
            "grid_auto_flow": null,
            "grid_auto_rows": null,
            "grid_column": null,
            "grid_gap": null,
            "grid_row": null,
            "grid_template_areas": null,
            "grid_template_columns": null,
            "grid_template_rows": null,
            "height": null,
            "justify_content": null,
            "justify_items": null,
            "left": null,
            "margin": null,
            "max_height": null,
            "max_width": null,
            "min_height": null,
            "min_width": null,
            "object_fit": null,
            "object_position": null,
            "order": null,
            "overflow": null,
            "overflow_x": null,
            "overflow_y": null,
            "padding": null,
            "right": null,
            "top": null,
            "visibility": null,
            "width": null
          }
        },
        "05bcc1bf1e93406cbacf32370f8a7628": {
          "model_module": "@jupyter-widgets/controls",
          "model_name": "DescriptionStyleModel",
          "model_module_version": "1.5.0",
          "state": {
            "_model_module": "@jupyter-widgets/controls",
            "_model_module_version": "1.5.0",
            "_model_name": "DescriptionStyleModel",
            "_view_count": null,
            "_view_module": "@jupyter-widgets/base",
            "_view_module_version": "1.2.0",
            "_view_name": "StyleView",
            "description_width": ""
          }
        },
        "da5e867efd4f473a93d370b5cfbd2e1d": {
          "model_module": "@jupyter-widgets/base",
          "model_name": "LayoutModel",
          "model_module_version": "1.2.0",
          "state": {
            "_model_module": "@jupyter-widgets/base",
            "_model_module_version": "1.2.0",
            "_model_name": "LayoutModel",
            "_view_count": null,
            "_view_module": "@jupyter-widgets/base",
            "_view_module_version": "1.2.0",
            "_view_name": "LayoutView",
            "align_content": null,
            "align_items": null,
            "align_self": null,
            "border": null,
            "bottom": null,
            "display": null,
            "flex": null,
            "flex_flow": null,
            "grid_area": null,
            "grid_auto_columns": null,
            "grid_auto_flow": null,
            "grid_auto_rows": null,
            "grid_column": null,
            "grid_gap": null,
            "grid_row": null,
            "grid_template_areas": null,
            "grid_template_columns": null,
            "grid_template_rows": null,
            "height": null,
            "justify_content": null,
            "justify_items": null,
            "left": null,
            "margin": null,
            "max_height": null,
            "max_width": null,
            "min_height": null,
            "min_width": null,
            "object_fit": null,
            "object_position": null,
            "order": null,
            "overflow": null,
            "overflow_x": null,
            "overflow_y": null,
            "padding": null,
            "right": null,
            "top": null,
            "visibility": null,
            "width": null
          }
        },
        "1d7a94fa95ec42d486f312aa7f0a8075": {
          "model_module": "@jupyter-widgets/controls",
          "model_name": "ProgressStyleModel",
          "model_module_version": "1.5.0",
          "state": {
            "_model_module": "@jupyter-widgets/controls",
            "_model_module_version": "1.5.0",
            "_model_name": "ProgressStyleModel",
            "_view_count": null,
            "_view_module": "@jupyter-widgets/base",
            "_view_module_version": "1.2.0",
            "_view_name": "StyleView",
            "bar_color": null,
            "description_width": ""
          }
        },
        "f00be311d3594a9988e7c8ef71609f2c": {
          "model_module": "@jupyter-widgets/base",
          "model_name": "LayoutModel",
          "model_module_version": "1.2.0",
          "state": {
            "_model_module": "@jupyter-widgets/base",
            "_model_module_version": "1.2.0",
            "_model_name": "LayoutModel",
            "_view_count": null,
            "_view_module": "@jupyter-widgets/base",
            "_view_module_version": "1.2.0",
            "_view_name": "LayoutView",
            "align_content": null,
            "align_items": null,
            "align_self": null,
            "border": null,
            "bottom": null,
            "display": null,
            "flex": null,
            "flex_flow": null,
            "grid_area": null,
            "grid_auto_columns": null,
            "grid_auto_flow": null,
            "grid_auto_rows": null,
            "grid_column": null,
            "grid_gap": null,
            "grid_row": null,
            "grid_template_areas": null,
            "grid_template_columns": null,
            "grid_template_rows": null,
            "height": null,
            "justify_content": null,
            "justify_items": null,
            "left": null,
            "margin": null,
            "max_height": null,
            "max_width": null,
            "min_height": null,
            "min_width": null,
            "object_fit": null,
            "object_position": null,
            "order": null,
            "overflow": null,
            "overflow_x": null,
            "overflow_y": null,
            "padding": null,
            "right": null,
            "top": null,
            "visibility": null,
            "width": null
          }
        },
        "2e7952c05f654a2abfd751e54f8b0a09": {
          "model_module": "@jupyter-widgets/controls",
          "model_name": "DescriptionStyleModel",
          "model_module_version": "1.5.0",
          "state": {
            "_model_module": "@jupyter-widgets/controls",
            "_model_module_version": "1.5.0",
            "_model_name": "DescriptionStyleModel",
            "_view_count": null,
            "_view_module": "@jupyter-widgets/base",
            "_view_module_version": "1.2.0",
            "_view_name": "StyleView",
            "description_width": ""
          }
        },
        "603f071f8a7d46769acf4d720bf1439e": {
          "model_module": "@jupyter-widgets/controls",
          "model_name": "HBoxModel",
          "model_module_version": "1.5.0",
          "state": {
            "_dom_classes": [],
            "_model_module": "@jupyter-widgets/controls",
            "_model_module_version": "1.5.0",
            "_model_name": "HBoxModel",
            "_view_count": null,
            "_view_module": "@jupyter-widgets/controls",
            "_view_module_version": "1.5.0",
            "_view_name": "HBoxView",
            "box_style": "",
            "children": [
              "IPY_MODEL_bb5869ffebad4aef86445d1847b831ca",
              "IPY_MODEL_b674d7f7917e49f8b06fda135029c3d2",
              "IPY_MODEL_83261c0bb9334bec8d773042ffbe029d"
            ],
            "layout": "IPY_MODEL_041f2fec2e8044bca66745713893561d"
          }
        },
        "bb5869ffebad4aef86445d1847b831ca": {
          "model_module": "@jupyter-widgets/controls",
          "model_name": "HTMLModel",
          "model_module_version": "1.5.0",
          "state": {
            "_dom_classes": [],
            "_model_module": "@jupyter-widgets/controls",
            "_model_module_version": "1.5.0",
            "_model_name": "HTMLModel",
            "_view_count": null,
            "_view_module": "@jupyter-widgets/controls",
            "_view_module_version": "1.5.0",
            "_view_name": "HTMLView",
            "description": "",
            "description_tooltip": null,
            "layout": "IPY_MODEL_b032d56256574dc7b973254ce8204b45",
            "placeholder": "​",
            "style": "IPY_MODEL_e8e3712fe70a4354ac1a5087c8edaebe",
            "value": "Map: 100%"
          }
        },
        "b674d7f7917e49f8b06fda135029c3d2": {
          "model_module": "@jupyter-widgets/controls",
          "model_name": "FloatProgressModel",
          "model_module_version": "1.5.0",
          "state": {
            "_dom_classes": [],
            "_model_module": "@jupyter-widgets/controls",
            "_model_module_version": "1.5.0",
            "_model_name": "FloatProgressModel",
            "_view_count": null,
            "_view_module": "@jupyter-widgets/controls",
            "_view_module_version": "1.5.0",
            "_view_name": "ProgressView",
            "bar_style": "success",
            "description": "",
            "description_tooltip": null,
            "layout": "IPY_MODEL_8f41e3be85fa45639710d18b0f093de7",
            "max": 50,
            "min": 0,
            "orientation": "horizontal",
            "style": "IPY_MODEL_878cb4214a59406b947b6e7e434bcd84",
            "value": 50
          }
        },
        "83261c0bb9334bec8d773042ffbe029d": {
          "model_module": "@jupyter-widgets/controls",
          "model_name": "HTMLModel",
          "model_module_version": "1.5.0",
          "state": {
            "_dom_classes": [],
            "_model_module": "@jupyter-widgets/controls",
            "_model_module_version": "1.5.0",
            "_model_name": "HTMLModel",
            "_view_count": null,
            "_view_module": "@jupyter-widgets/controls",
            "_view_module_version": "1.5.0",
            "_view_name": "HTMLView",
            "description": "",
            "description_tooltip": null,
            "layout": "IPY_MODEL_7b8dbad52b104192bc69eaace74baf87",
            "placeholder": "​",
            "style": "IPY_MODEL_6f9e250eae5348e5b87197ae63d32829",
            "value": " 50/50 [00:00&lt;00:00, 915.09 examples/s]"
          }
        },
        "041f2fec2e8044bca66745713893561d": {
          "model_module": "@jupyter-widgets/base",
          "model_name": "LayoutModel",
          "model_module_version": "1.2.0",
          "state": {
            "_model_module": "@jupyter-widgets/base",
            "_model_module_version": "1.2.0",
            "_model_name": "LayoutModel",
            "_view_count": null,
            "_view_module": "@jupyter-widgets/base",
            "_view_module_version": "1.2.0",
            "_view_name": "LayoutView",
            "align_content": null,
            "align_items": null,
            "align_self": null,
            "border": null,
            "bottom": null,
            "display": null,
            "flex": null,
            "flex_flow": null,
            "grid_area": null,
            "grid_auto_columns": null,
            "grid_auto_flow": null,
            "grid_auto_rows": null,
            "grid_column": null,
            "grid_gap": null,
            "grid_row": null,
            "grid_template_areas": null,
            "grid_template_columns": null,
            "grid_template_rows": null,
            "height": null,
            "justify_content": null,
            "justify_items": null,
            "left": null,
            "margin": null,
            "max_height": null,
            "max_width": null,
            "min_height": null,
            "min_width": null,
            "object_fit": null,
            "object_position": null,
            "order": null,
            "overflow": null,
            "overflow_x": null,
            "overflow_y": null,
            "padding": null,
            "right": null,
            "top": null,
            "visibility": null,
            "width": null
          }
        },
        "b032d56256574dc7b973254ce8204b45": {
          "model_module": "@jupyter-widgets/base",
          "model_name": "LayoutModel",
          "model_module_version": "1.2.0",
          "state": {
            "_model_module": "@jupyter-widgets/base",
            "_model_module_version": "1.2.0",
            "_model_name": "LayoutModel",
            "_view_count": null,
            "_view_module": "@jupyter-widgets/base",
            "_view_module_version": "1.2.0",
            "_view_name": "LayoutView",
            "align_content": null,
            "align_items": null,
            "align_self": null,
            "border": null,
            "bottom": null,
            "display": null,
            "flex": null,
            "flex_flow": null,
            "grid_area": null,
            "grid_auto_columns": null,
            "grid_auto_flow": null,
            "grid_auto_rows": null,
            "grid_column": null,
            "grid_gap": null,
            "grid_row": null,
            "grid_template_areas": null,
            "grid_template_columns": null,
            "grid_template_rows": null,
            "height": null,
            "justify_content": null,
            "justify_items": null,
            "left": null,
            "margin": null,
            "max_height": null,
            "max_width": null,
            "min_height": null,
            "min_width": null,
            "object_fit": null,
            "object_position": null,
            "order": null,
            "overflow": null,
            "overflow_x": null,
            "overflow_y": null,
            "padding": null,
            "right": null,
            "top": null,
            "visibility": null,
            "width": null
          }
        },
        "e8e3712fe70a4354ac1a5087c8edaebe": {
          "model_module": "@jupyter-widgets/controls",
          "model_name": "DescriptionStyleModel",
          "model_module_version": "1.5.0",
          "state": {
            "_model_module": "@jupyter-widgets/controls",
            "_model_module_version": "1.5.0",
            "_model_name": "DescriptionStyleModel",
            "_view_count": null,
            "_view_module": "@jupyter-widgets/base",
            "_view_module_version": "1.2.0",
            "_view_name": "StyleView",
            "description_width": ""
          }
        },
        "8f41e3be85fa45639710d18b0f093de7": {
          "model_module": "@jupyter-widgets/base",
          "model_name": "LayoutModel",
          "model_module_version": "1.2.0",
          "state": {
            "_model_module": "@jupyter-widgets/base",
            "_model_module_version": "1.2.0",
            "_model_name": "LayoutModel",
            "_view_count": null,
            "_view_module": "@jupyter-widgets/base",
            "_view_module_version": "1.2.0",
            "_view_name": "LayoutView",
            "align_content": null,
            "align_items": null,
            "align_self": null,
            "border": null,
            "bottom": null,
            "display": null,
            "flex": null,
            "flex_flow": null,
            "grid_area": null,
            "grid_auto_columns": null,
            "grid_auto_flow": null,
            "grid_auto_rows": null,
            "grid_column": null,
            "grid_gap": null,
            "grid_row": null,
            "grid_template_areas": null,
            "grid_template_columns": null,
            "grid_template_rows": null,
            "height": null,
            "justify_content": null,
            "justify_items": null,
            "left": null,
            "margin": null,
            "max_height": null,
            "max_width": null,
            "min_height": null,
            "min_width": null,
            "object_fit": null,
            "object_position": null,
            "order": null,
            "overflow": null,
            "overflow_x": null,
            "overflow_y": null,
            "padding": null,
            "right": null,
            "top": null,
            "visibility": null,
            "width": null
          }
        },
        "878cb4214a59406b947b6e7e434bcd84": {
          "model_module": "@jupyter-widgets/controls",
          "model_name": "ProgressStyleModel",
          "model_module_version": "1.5.0",
          "state": {
            "_model_module": "@jupyter-widgets/controls",
            "_model_module_version": "1.5.0",
            "_model_name": "ProgressStyleModel",
            "_view_count": null,
            "_view_module": "@jupyter-widgets/base",
            "_view_module_version": "1.2.0",
            "_view_name": "StyleView",
            "bar_color": null,
            "description_width": ""
          }
        },
        "7b8dbad52b104192bc69eaace74baf87": {
          "model_module": "@jupyter-widgets/base",
          "model_name": "LayoutModel",
          "model_module_version": "1.2.0",
          "state": {
            "_model_module": "@jupyter-widgets/base",
            "_model_module_version": "1.2.0",
            "_model_name": "LayoutModel",
            "_view_count": null,
            "_view_module": "@jupyter-widgets/base",
            "_view_module_version": "1.2.0",
            "_view_name": "LayoutView",
            "align_content": null,
            "align_items": null,
            "align_self": null,
            "border": null,
            "bottom": null,
            "display": null,
            "flex": null,
            "flex_flow": null,
            "grid_area": null,
            "grid_auto_columns": null,
            "grid_auto_flow": null,
            "grid_auto_rows": null,
            "grid_column": null,
            "grid_gap": null,
            "grid_row": null,
            "grid_template_areas": null,
            "grid_template_columns": null,
            "grid_template_rows": null,
            "height": null,
            "justify_content": null,
            "justify_items": null,
            "left": null,
            "margin": null,
            "max_height": null,
            "max_width": null,
            "min_height": null,
            "min_width": null,
            "object_fit": null,
            "object_position": null,
            "order": null,
            "overflow": null,
            "overflow_x": null,
            "overflow_y": null,
            "padding": null,
            "right": null,
            "top": null,
            "visibility": null,
            "width": null
          }
        },
        "6f9e250eae5348e5b87197ae63d32829": {
          "model_module": "@jupyter-widgets/controls",
          "model_name": "DescriptionStyleModel",
          "model_module_version": "1.5.0",
          "state": {
            "_model_module": "@jupyter-widgets/controls",
            "_model_module_version": "1.5.0",
            "_model_name": "DescriptionStyleModel",
            "_view_count": null,
            "_view_module": "@jupyter-widgets/base",
            "_view_module_version": "1.2.0",
            "_view_name": "StyleView",
            "description_width": ""
          }
        }
      }
    }
  },
  "cells": [
    {
      "cell_type": "code",
      "execution_count": 1,
      "metadata": {
        "id": "qUUSjanLcPID"
      },
      "outputs": [],
      "source": [
        "from datasets import load_dataset\n",
        "from transformers import AutoTokenizer\n",
        "import torch\n",
        "import torch.nn as nn\n",
        "from torch.utils.data import DataLoader"
      ]
    },
    {
      "cell_type": "code",
      "source": [
        "dataset = load_dataset(\"opus100\", \"en-tr\", split=\"train\") #HuggingFace API anahtarını Colab Gizli Anahtarlar alanına giriyoruz\n",
        "dataset = dataset.select(range(500))  # Örneğin ilk 500 örneği al\n",
        "\n",
        "\n",
        "dataset = dataset.train_test_split(test_size=0.1)\n",
        "\n",
        "train_data = dataset[\"train\"]\n",
        "test_data = dataset[\"test\"]\n",
        "\n",
        "print(len(train_data))\n",
        "\n",
        "for i in range(10):\n",
        "    example = train_data[i]\n",
        "    print(example)\n"
      ],
      "metadata": {
        "colab": {
          "base_uri": "https://localhost:8080/"
        },
        "id": "rg4mBLT6nmA5",
        "outputId": "09067a9b-c99b-4b8b-d146-2b5598263499"
      },
      "execution_count": 27,
      "outputs": [
        {
          "output_type": "stream",
          "name": "stdout",
          "text": [
            "450\n",
            "{'translation': {'en': \"He's too big.\", 'tr': 'Çünkü ona ulaşılamaz.'}}\n",
            "{'translation': {'en': '- Thank you, Sheila.', 'tr': '- Teşekkürler, Sheila.'}}\n",
            "{'translation': {'en': \"- You don't have to kill him, Mr Howie.\", 'tr': '- Onu öldürmenize gerek yok, Bay Howie.'}}\n",
            "{'translation': {'en': 'One second.', 'tr': 'Bir saniye.'}}\n",
            "{'translation': {'en': \"I don't feel like swimming.\", 'tr': 'Pek canım istemiyor.'}}\n",
            "{'translation': {'en': 'What a total dick.', 'tr': 'Tam bir pislik.'}}\n",
            "{'translation': {'en': 'He was already gone.', 'tr': 'Çoktan gitmişti.'}}\n",
            "{'translation': {'en': '- Chips?', 'tr': '- Chips?'}}\n",
            "{'translation': {'en': 'Oh!', 'tr': 'Yarış çok çetin.'}}\n",
            "{'translation': {'en': '- Fucking bitch.', 'tr': '- Lanet olası kaltak!'}}\n"
          ]
        }
      ]
    },
    {
      "cell_type": "code",
      "source": [
        "tokenizer = AutoTokenizer.from_pretrained(\"bert-base-multilingual-cased\")\n",
        "\n",
        "def preprocess(example):\n",
        "    model_inputs = tokenizer(example[\"translation\"][\"tr\"], max_length=64, truncation=True, padding=\"max_length\")\n",
        "    labels = tokenizer(example[\"translation\"][\"en\"], max_length=64, truncation=True, padding=\"max_length\")\n",
        "    model_inputs[\"labels\"] = labels[\"input_ids\"]\n",
        "    return model_inputs\n",
        "\n",
        "train_data = train_data.map(preprocess, remove_columns=[\"translation\"])\n",
        "test_data = test_data.map(preprocess, remove_columns=[\"translation\"])\n"
      ],
      "metadata": {
        "colab": {
          "base_uri": "https://localhost:8080/",
          "height": 81,
          "referenced_widgets": [
            "b5212e8141e14e9d9f21c25aa892b402",
            "be54f65a71a542dfb6184c8ebcc69e2b",
            "f740519e491c472082999c94392df664",
            "7d7c1c69176847e486868e5f6cc0c213",
            "66f5c1e675e94ed9b2127dc8acf5902a",
            "3613818e851f49cfb8042f24a88d49c1",
            "05bcc1bf1e93406cbacf32370f8a7628",
            "da5e867efd4f473a93d370b5cfbd2e1d",
            "1d7a94fa95ec42d486f312aa7f0a8075",
            "f00be311d3594a9988e7c8ef71609f2c",
            "2e7952c05f654a2abfd751e54f8b0a09",
            "603f071f8a7d46769acf4d720bf1439e",
            "bb5869ffebad4aef86445d1847b831ca",
            "b674d7f7917e49f8b06fda135029c3d2",
            "83261c0bb9334bec8d773042ffbe029d",
            "041f2fec2e8044bca66745713893561d",
            "b032d56256574dc7b973254ce8204b45",
            "e8e3712fe70a4354ac1a5087c8edaebe",
            "8f41e3be85fa45639710d18b0f093de7",
            "878cb4214a59406b947b6e7e434bcd84",
            "7b8dbad52b104192bc69eaace74baf87",
            "6f9e250eae5348e5b87197ae63d32829"
          ]
        },
        "id": "a6x7gbldov-m",
        "outputId": "60f63b8d-1e23-420a-afc7-1ed160618741"
      },
      "execution_count": 28,
      "outputs": [
        {
          "output_type": "display_data",
          "data": {
            "text/plain": [
              "Map:   0%|          | 0/450 [00:00<?, ? examples/s]"
            ],
            "application/vnd.jupyter.widget-view+json": {
              "version_major": 2,
              "version_minor": 0,
              "model_id": "b5212e8141e14e9d9f21c25aa892b402"
            }
          },
          "metadata": {}
        },
        {
          "output_type": "display_data",
          "data": {
            "text/plain": [
              "Map:   0%|          | 0/50 [00:00<?, ? examples/s]"
            ],
            "application/vnd.jupyter.widget-view+json": {
              "version_major": 2,
              "version_minor": 0,
              "model_id": "603f071f8a7d46769acf4d720bf1439e"
            }
          },
          "metadata": {}
        }
      ]
    },
    {
      "cell_type": "code",
      "source": [
        "def collate_fn(batch):\n",
        "    input_ids = torch.tensor([item[\"input_ids\"] for item in batch])\n",
        "    labels = torch.tensor([item[\"labels\"] for item in batch])\n",
        "    return input_ids, labels\n",
        "\n",
        "train_loader = DataLoader(train_data, batch_size=8, shuffle=True, collate_fn=collate_fn)\n"
      ],
      "metadata": {
        "id": "91_kg3Mno2lp"
      },
      "execution_count": 29,
      "outputs": []
    },
    {
      "cell_type": "code",
      "source": [
        "class TranslateGPT(nn.Module):\n",
        "    def __init__(self, vocab_size, embed_dim=256, num_heads=4, num_layers=2):\n",
        "        super().__init__()\n",
        "        self.embedding = nn.Embedding(vocab_size, embed_dim)\n",
        "        self.pos_encoding = nn.Parameter(torch.randn(1, 64, embed_dim))\n",
        "        self.encoder = nn.TransformerEncoder(\n",
        "            nn.TransformerEncoderLayer(d_model=embed_dim, nhead=num_heads, dim_feedforward=512, dropout=0.1, batch_first=True),\n",
        "            num_layers=num_layers\n",
        "        )\n",
        "        self.decoder = nn.TransformerDecoder(\n",
        "            nn.TransformerDecoderLayer(d_model=embed_dim, nhead=num_heads, dim_feedforward=512, dropout=0.1, batch_first=True),\n",
        "            num_layers=num_layers\n",
        "        )\n",
        "        self.output_layer = nn.Linear(embed_dim, vocab_size)\n",
        "\n",
        "    def forward(self, src, tgt):\n",
        "        src_emb = self.embedding(src) + self.pos_encoding[:, :src.size(1), :]\n",
        "        tgt_emb = self.embedding(tgt) + self.pos_encoding[:, :tgt.size(1), :]\n",
        "        memory = self.encoder(src_emb)\n",
        "        output = self.decoder(tgt_emb, memory)\n",
        "        return self.output_layer(output)\n"
      ],
      "metadata": {
        "id": "IZEzYVz_sFLk"
      },
      "execution_count": 30,
      "outputs": []
    },
    {
      "cell_type": "code",
      "source": [
        "device = torch.device(\"cuda\" if torch.cuda.is_available() else \"cpu\")\n",
        "model = TranslateGPT(vocab_size=tokenizer.vocab_size).to(device)\n",
        "optimizer = torch.optim.Adam(model.parameters(), lr=1e-4)\n",
        "loss_fn = nn.CrossEntropyLoss(ignore_index=tokenizer.pad_token_id)\n",
        "\n",
        "# İlk 5 örneği al\n",
        "mini_data = train_data.select(range(5))\n",
        "\n",
        "mini_loader = DataLoader(mini_data, batch_size=1, shuffle=True, collate_fn=collate_fn)\n",
        "\n",
        "# Eğitim: 100 epoch (küçük veri)\n",
        "for epoch in range(100):\n",
        "    model.train()\n",
        "    total_loss = 0\n",
        "    for input_ids, labels in mini_loader:\n",
        "        input_ids, labels = input_ids.to(device), labels.to(device)\n",
        "        tgt_input = labels[:, :-1]\n",
        "        tgt_output = labels[:, 1:]\n",
        "\n",
        "        logits = model(input_ids, tgt_input)\n",
        "        loss = loss_fn(logits.reshape(-1, logits.size(-1)), tgt_output.reshape(-1))\n",
        "\n",
        "        optimizer.zero_grad()\n",
        "        loss.backward()\n",
        "        optimizer.step()\n",
        "        total_loss += loss.item()\n",
        "\n",
        "    if (epoch + 1) % 10 == 0:\n",
        "        print(f\"[Mini] Epoch {epoch+1}, Loss: {total_loss:.4f}\")\n"
      ],
      "metadata": {
        "colab": {
          "base_uri": "https://localhost:8080/"
        },
        "id": "n0T3ODBisKAG",
        "outputId": "f9140b4a-a83e-462c-aada-f648775b659f"
      },
      "execution_count": 88,
      "outputs": [
        {
          "output_type": "stream",
          "name": "stdout",
          "text": [
            "[Mini] Epoch 10, Loss: 40.0616\n",
            "[Mini] Epoch 20, Loss: 24.9593\n",
            "[Mini] Epoch 30, Loss: 13.5387\n",
            "[Mini] Epoch 40, Loss: 6.7202\n",
            "[Mini] Epoch 50, Loss: 3.3147\n",
            "[Mini] Epoch 60, Loss: 1.7415\n",
            "[Mini] Epoch 70, Loss: 1.0919\n",
            "[Mini] Epoch 80, Loss: 0.7402\n",
            "[Mini] Epoch 90, Loss: 0.5392\n",
            "[Mini] Epoch 100, Loss: 0.4277\n"
          ]
        }
      ]
    },
    {
      "cell_type": "code",
      "source": [
        "def translate_text(model, input_text, max_len=64, verbose=True):\n",
        "    model.eval()\n",
        "    tokens = tokenizer(input_text, return_tensors=\"pt\", padding=\"max_length\", max_length=max_len, truncation=True)\n",
        "    src = tokens[\"input_ids\"].to(device)\n",
        "\n",
        "    # Başlangıç tokenı (CLS veya BOS, varsa BOS kullan)\n",
        "    bos_token = tokenizer.bos_token_id or tokenizer.cls_token_id\n",
        "    sep_token = tokenizer.sep_token_id\n",
        "    pad_token = tokenizer.pad_token_id\n",
        "\n",
        "    tgt = torch.tensor([[bos_token]], dtype=torch.long).to(device)\n",
        "\n",
        "    for _ in range(max_len):\n",
        "        output = model(src, tgt)\n",
        "        next_token = torch.argmax(output[:, -1, :], dim=-1, keepdim=True)\n",
        "\n",
        "        if next_token.item() in [sep_token, pad_token]:\n",
        "            break  # optional: veya devam et\n",
        "\n",
        "        tgt = torch.cat([tgt, next_token], dim=1)\n",
        "\n",
        "    if verbose:\n",
        "        print(\"Output token ids :\", tgt[0].tolist())\n",
        "        print(\"Raw decoded      :\", tokenizer.decode(tgt[0], skip_special_tokens=False))\n",
        "        print(\"Cleaned decoded  :\", tokenizer.decode(tgt[0], skip_special_tokens=True))\n",
        "\n",
        "    return tokenizer.decode(tgt[0], skip_special_tokens=True)\n",
        "\n",
        "\n"
      ],
      "metadata": {
        "id": "xBc48iLTuAti"
      },
      "execution_count": 90,
      "outputs": []
    },
    {
      "cell_type": "code",
      "source": [
        "# Örnek\n",
        "sample = \"- Onu öldürmenize gerek yok, Bay Howie.\"\n",
        "print(\"Girdi:\", sample)\n",
        "translated = translate_text(model, sample)\n",
        "print(\"Çeviri:\", translated)"
      ],
      "metadata": {
        "colab": {
          "base_uri": "https://localhost:8080/"
        },
        "id": "2anqYxi4zlSz",
        "outputId": "3f5ae541-5c32-48b4-bd76-dafe8c7f4704"
      },
      "execution_count": 91,
      "outputs": [
        {
          "output_type": "stream",
          "name": "stdout",
          "text": [
            "Girdi: - Onu öldürmenize gerek yok, Bay Howie.\n",
            "Output token ids : [101, 118, 11065, 16938, 112, 188, 10529, 10114, 32099, 10957, 117, 12916, 14962, 10400, 119]\n",
            "Raw decoded      : [CLS] - You don ' t have to kill him, Mr Howie.\n",
            "Cleaned decoded  : - You don ' t have to kill him, Mr Howie.\n",
            "Çeviri: - You don ' t have to kill him, Mr Howie.\n"
          ]
        }
      ]
    },
    {
      "cell_type": "markdown",
      "source": [
        "ATTENTION MEKANİZMASI NE SAĞLADI\n",
        "\n",
        "🎯 Odaklanma\tModel, hangi kelimenin hangi kelimeyle ilişkili olduğunu öğrenir (örneğin \"teşekkürler\" → \"thank you\")\n",
        "\n",
        "🧩 Parçalı anlam\tTüm cümleyi tek bir gizli vektöre sıkıştırmak yerine, her bir kelimenin bağlamına özgü temsilini tutar\n",
        "\n",
        "🔀 Doğal kelime sırası\tDiller arası kelime sıraları farklı olsa da, attention mekanizması bu farklılıkları çözebilir\n",
        "\n",
        "🔁 Uzun bağımlılıklar\tCümlenin başındaki bir kelimeyle sonundaki kelime arasındaki ilişkileri kurabilir"
      ],
      "metadata": {
        "id": "2gr4ibgMEkFD"
      }
    },
    {
      "cell_type": "markdown",
      "source": [
        "EĞİTİMİN AMACI NEDİR, LOOKUP TABLE KULLANILAMAZ MIYDI?\n",
        "\n",
        "Eğitim sırasında:\n",
        "\n",
        "Model sadece ezberlemez, genelleştirir\n",
        "\n",
        "Aynı yapıyı taşıyan ama yeni kelimelerle gelen cümleleri çevirmeyi öğrenir\n",
        "\n",
        "Örneğin:\n",
        "\n",
        "\n",
        "Görmedim → I didn't see\n",
        "Duymadım → I didn't hear\n",
        "gibi örneklerden sonra, model:\n",
        "\n",
        "Anlamadım → I didn't understand\n",
        "gibi çeviriyi daha önce görmemiş olsa bile çıkarabilir."
      ],
      "metadata": {
        "id": "rE-Q2V10EQqC"
      }
    }
  ]
}
