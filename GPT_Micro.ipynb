{
  "nbformat": 4,
  "nbformat_minor": 0,
  "metadata": {
    "colab": {
      "provenance": [],
      "toc_visible": true,
      "gpuType": "T4"
    },
    "kernelspec": {
      "name": "python3",
      "display_name": "Python 3"
    },
    "language_info": {
      "name": "python"
    },
    "accelerator": "GPU"
  },
  "cells": [
    {
      "cell_type": "code",
      "execution_count": 1,
      "metadata": {
        "id": "jrMKynB7Knel"
      },
      "outputs": [],
      "source": [
        "import torch\n",
        "import torch.nn as nn\n",
        "import torch.nn.functional as F\n",
        "import numpy as np\n",
        "from tqdm import tqdm"
      ]
    },
    {
      "cell_type": "code",
      "source": [
        "import requests\n",
        "\n",
        "url = \"https://raw.githubusercontent.com/bilishim/deep-learning/refs/heads/master/yilmaz-degirmenci-siirler.txt\"\n",
        "with open(\"input.txt\", \"w\", encoding='utf-8') as f:\n",
        "    f.write(requests.get(url).text)\n",
        "\n",
        "print(\"Veri indirildi.\")"
      ],
      "metadata": {
        "colab": {
          "base_uri": "https://localhost:8080/"
        },
        "id": "L5RCmF4hPbXo",
        "outputId": "e74f0769-3e80-4a85-bc4f-1dcb776f00f6"
      },
      "execution_count": 2,
      "outputs": [
        {
          "output_type": "stream",
          "name": "stdout",
          "text": [
            "Veri indirildi.\n"
          ]
        }
      ]
    },
    {
      "cell_type": "code",
      "source": [
        "with open(\"input.txt\", \"r\", encoding='utf-8') as f:\n",
        "    text = f.read()\n",
        "\n",
        "print(\"Veri uzunluğu:\", len(text))\n",
        "print(\"İlk 100 karakter:\")\n",
        "print(text[:100])\n"
      ],
      "metadata": {
        "colab": {
          "base_uri": "https://localhost:8080/"
        },
        "id": "8k0cX3OGP6gl",
        "outputId": "3b082358-2af9-4362-9c89-964b363637c6"
      },
      "execution_count": 3,
      "outputs": [
        {
          "output_type": "stream",
          "name": "stdout",
          "text": [
            "Veri uzunluğu: 156211\n",
            "İlk 100 karakter:\n",
            "﻿YANKI\n",
            "\n",
            "Bazen ayazda buz tutmuş ruhum\n",
            "Senin ışığını yansıtan aynalarla ısınıyor,\n",
            "Buzun mercekleşip v\n"
          ]
        }
      ]
    },
    {
      "cell_type": "code",
      "source": [
        "chars = sorted(list(set(text)))\n",
        "vocab_size = len(chars)\n",
        "print(f\"Toplam farklı karakter sayısı (vocab size): {vocab_size}\")\n",
        "\n",
        "# İki yönlü haritalama\n",
        "stoi = {ch: i for i, ch in enumerate(chars)}\n",
        "itos = {i: ch for ch, i in stoi.items()}\n",
        "encode = lambda s: [stoi[c] for c in s]\n",
        "decode = lambda l: ''.join([itos[i] for i in l])\n"
      ],
      "metadata": {
        "colab": {
          "base_uri": "https://localhost:8080/"
        },
        "id": "_YLSsZ7CQINh",
        "outputId": "be4303a7-6984-4191-8fb0-fe6129604ac5"
      },
      "execution_count": 4,
      "outputs": [
        {
          "output_type": "stream",
          "name": "stdout",
          "text": [
            "Toplam farklı karakter sayısı (vocab size): 73\n"
          ]
        }
      ]
    },
    {
      "cell_type": "code",
      "source": [
        "print(encode(\"Hello\"))\n",
        "print(decode(encode(\"Hello\")))\n"
      ],
      "metadata": {
        "colab": {
          "base_uri": "https://localhost:8080/"
        },
        "id": "SDFxBcJyQhiE",
        "outputId": "84a06dc7-9355-4af2-a7b8-bfd6d4eb5646"
      },
      "execution_count": 5,
      "outputs": [
        {
          "output_type": "stream",
          "name": "stdout",
          "text": [
            "[19, 38, 45, 45, 48]\n",
            "Hello\n"
          ]
        }
      ]
    },
    {
      "cell_type": "code",
      "source": [
        "'''\n",
        "GPT modeli şunu öğrenir:\n",
        "\n",
        "“Bana bir karakter dizisi ver, bir sonraki karakteri tahmin et.”\n",
        "'''\n",
        "\n",
        "block_size = 16  # Kaç karakterlik bir bağlamdan tahmin yapacak\n",
        "data = torch.tensor(encode(text), dtype=torch.long)\n",
        "print(\"Veri tensoru:\", data[:20])"
      ],
      "metadata": {
        "colab": {
          "base_uri": "https://localhost:8080/"
        },
        "id": "WJVKalNZSHOf",
        "outputId": "aa46548b-c608-43e1-f5a3-b8ebc9fef97b"
      },
      "execution_count": 17,
      "outputs": [
        {
          "output_type": "stream",
          "name": "stdout",
          "text": [
            "Veri tensoru: tensor([72, 32, 12, 24, 21, 20,  0,  0, 13, 34, 56, 38, 47,  1, 34, 55, 34, 56,\n",
            "        37, 34])\n"
          ]
        }
      ]
    },
    {
      "cell_type": "code",
      "source": [
        "n = int(0.9 * len(data))\n",
        "train_data = data[:n]\n",
        "val_data = data[n:]\n"
      ],
      "metadata": {
        "id": "DaYfyHt9SOY8"
      },
      "execution_count": 18,
      "outputs": []
    },
    {
      "cell_type": "code",
      "source": [
        "def get_batch(split, batch_size=4):\n",
        "    data_split = train_data if split == \"train\" else val_data\n",
        "    ix = torch.randint(len(data_split) - block_size, (batch_size,))\n",
        "    x = torch.stack([data_split[i:i+block_size] for i in ix])\n",
        "    y = torch.stack([data_split[i+1:i+block_size+1] for i in ix])\n",
        "    return x, y\n",
        "\n",
        "# Örnek batch al\n",
        "x, y = get_batch(\"train\")\n",
        "print(\"Input (x):\", x)\n",
        "print(\"Target (y):\", y)\n",
        "print(\"Decode input:\", decode(x[0].tolist()))\n",
        "print(\"Decode target:\", decode(y[0].tolist()))\n"
      ],
      "metadata": {
        "colab": {
          "base_uri": "https://localhost:8080/"
        },
        "id": "X_BPFejpSYP_",
        "outputId": "359fa4bb-2bb5-41d3-a39f-c94cc8598bca"
      },
      "execution_count": 19,
      "outputs": [
        {
          "output_type": "stream",
          "name": "stdout",
          "text": [
            "Input (x): tensor([[34, 54, 42,  1, 35, 42, 50,  1, 40, 61, 44, 55, 63, 56, 63, 51],\n",
            "        [ 1, 37, 38,  1, 52, 38, 50, 44,  1, 38, 37, 38, 35, 42, 45, 46],\n",
            "        [65, 42, 47,  1, 51, 34, 55, 67, 45, 67,  1, 47, 38, 39, 38, 51],\n",
            "        [66,  0,  0, 13, 42, 56, 38,  1, 35, 38, 45, 44, 42, 45, 38, 50]])\n",
            "Target (y): tensor([[54, 42,  1, 35, 42, 50,  1, 40, 61, 44, 55, 63, 56, 63, 51, 63],\n",
            "        [37, 38,  1, 52, 38, 50, 44,  1, 38, 37, 38, 35, 42, 45, 46, 38],\n",
            "        [42, 47,  1, 51, 34, 55, 67, 45, 67,  1, 47, 38, 39, 38, 51, 52],\n",
            "        [ 0,  0, 13, 42, 56, 38,  1, 35, 38, 45, 44, 42, 45, 38, 50,  1]])\n",
            "Decode input: avi bir gökyüzüs\n",
            "Decode target: vi bir gökyüzüsü\n"
          ]
        }
      ]
    },
    {
      "cell_type": "code",
      "source": [
        "vocab_size = len(stoi)  # karakter sayısı\n",
        "embedding_dim = 64      # her token'ı temsil eden vektörün boyutu\n",
        "n_heads = 8             # kaç başlı attention\n",
        "n_layers = 4            # transformer block sayısı\n",
        "block_size = 16          # bağlam uzunluğu\n"
      ],
      "metadata": {
        "id": "fZuVHxhZTI8c"
      },
      "execution_count": 20,
      "outputs": []
    },
    {
      "cell_type": "code",
      "source": [
        "class SelfAttentionHead(nn.Module):\n",
        "    def __init__(self, head_size):\n",
        "        super().__init__()\n",
        "        self.key = nn.Linear(embedding_dim, head_size, bias=False)\n",
        "        self.query = nn.Linear(embedding_dim, head_size, bias=False)\n",
        "        self.value = nn.Linear(embedding_dim, head_size, bias=False)\n",
        "        self.register_buffer('tril', torch.tril(torch.ones(block_size, block_size)))\n",
        "\n",
        "    def forward(self, x):\n",
        "        B, T, C = x.shape\n",
        "        k = self.key(x)     # (B, T, head_size)\n",
        "        q = self.query(x)   # (B, T, head_size)\n",
        "\n",
        "        # attention score = Q x K^T\n",
        "        wei = q @ k.transpose(-2, -1) * C**-0.5  # scaled dot-product\n",
        "        wei = wei.masked_fill(self.tril[:T, :T] == 0, float('-inf'))  # causal mask\n",
        "        wei = F.softmax(wei, dim=-1)\n",
        "\n",
        "        v = self.value(x)\n",
        "        out = wei @ v\n",
        "        return out\n",
        "\n",
        "'''\n",
        "Q, K, V matrislerini ürettik\n",
        "\n",
        "Q x K^T ile skor hesapladık\n",
        "\n",
        "tril ile geleceği maskeledik\n",
        "\n",
        "Skorları softmax ile normalize ettik\n",
        "\n",
        "Son olarak score x V yaptık → çıktı\n",
        "'''"
      ],
      "metadata": {
        "colab": {
          "base_uri": "https://localhost:8080/",
          "height": 54
        },
        "id": "gCkRzZEYTK6A",
        "outputId": "60e70660-6f0e-4ae2-9e61-489d1569d604"
      },
      "execution_count": 21,
      "outputs": [
        {
          "output_type": "execute_result",
          "data": {
            "text/plain": [
              "'\\nQ, K, V matrislerini ürettik\\n\\nQ x K^T ile skor hesapladık\\n\\ntril ile geleceği maskeledik\\n\\nSkorları softmax ile normalize ettik\\n\\nSon olarak score x V yaptık → çıktı\\n'"
            ],
            "application/vnd.google.colaboratory.intrinsic+json": {
              "type": "string"
            }
          },
          "metadata": {},
          "execution_count": 21
        }
      ]
    },
    {
      "cell_type": "code",
      "source": [
        "class MultiHeadAttention(nn.Module):\n",
        "    def __init__(self, num_heads, head_size):\n",
        "        super().__init__()\n",
        "        self.heads = nn.ModuleList([SelfAttentionHead(head_size) for _ in range(num_heads)])\n",
        "        self.proj = nn.Linear(num_heads * head_size, embedding_dim)\n",
        "\n",
        "    def forward(self, x):\n",
        "        out = torch.cat([h(x) for h in self.heads], dim=-1)\n",
        "        out = self.proj(out)\n",
        "        return out\n"
      ],
      "metadata": {
        "id": "XjoaFuwmTbUR"
      },
      "execution_count": 22,
      "outputs": []
    },
    {
      "cell_type": "code",
      "source": [
        "class FeedForward(nn.Module):\n",
        "    def __init__(self, embedding_dim):\n",
        "        super().__init__()\n",
        "        self.net = nn.Sequential(\n",
        "            nn.Linear(embedding_dim, 4 * embedding_dim),\n",
        "            nn.ReLU(),\n",
        "            nn.Linear(4 * embedding_dim, embedding_dim)\n",
        "        )\n",
        "\n",
        "    def forward(self, x):\n",
        "        return self.net(x)\n"
      ],
      "metadata": {
        "id": "ES-KgzYjTl8O"
      },
      "execution_count": 23,
      "outputs": []
    },
    {
      "cell_type": "code",
      "source": [
        "class Block(nn.Module):\n",
        "    def __init__(self, embedding_dim, n_heads):\n",
        "        super().__init__()\n",
        "        head_size = embedding_dim // n_heads\n",
        "        self.sa = MultiHeadAttention(n_heads, head_size)\n",
        "        self.ff = FeedForward(embedding_dim)\n",
        "        self.ln1 = nn.LayerNorm(embedding_dim)\n",
        "        self.ln2 = nn.LayerNorm(embedding_dim)\n",
        "\n",
        "    def forward(self, x):\n",
        "        x = x + self.sa(self.ln1(x))  # Residual + LayerNorm\n",
        "        x = x + self.ff(self.ln2(x))\n",
        "        return x\n"
      ],
      "metadata": {
        "id": "DJbNv5mjToor"
      },
      "execution_count": 24,
      "outputs": []
    },
    {
      "cell_type": "code",
      "source": [
        "class SimpleGPT(nn.Module):\n",
        "    def __init__(self):\n",
        "        super().__init__()\n",
        "        self.token_embedding = nn.Embedding(vocab_size, embedding_dim)\n",
        "        self.position_embedding = nn.Embedding(block_size, embedding_dim)\n",
        "        self.blocks = nn.Sequential(*[Block(embedding_dim, n_heads) for _ in range(n_layers)])\n",
        "        self.ln_f = nn.LayerNorm(embedding_dim)\n",
        "        self.head = nn.Linear(embedding_dim, vocab_size)\n",
        "\n",
        "    def forward(self, idx, targets=None):\n",
        "        B, T = idx.shape\n",
        "        tok_emb = self.token_embedding(idx)               # (B, T, C)\n",
        "        pos_emb = self.position_embedding(torch.arange(T, device=idx.device))  # (T, C)\n",
        "        x = tok_emb + pos_emb                             # (B, T, C)\n",
        "        x = self.blocks(x)                                # (B, T, C)\n",
        "        x = self.ln_f(x)                                  # (B, T, C)\n",
        "        logits = self.head(x)                             # (B, T, vocab_size)\n",
        "\n",
        "        if targets is None:\n",
        "            return logits, None\n",
        "\n",
        "        B, T, C = logits.shape\n",
        "        logits = logits.view(B*T, C)\n",
        "        targets = targets.view(B*T)\n",
        "        loss = F.cross_entropy(logits, targets)\n",
        "        return logits, loss\n"
      ],
      "metadata": {
        "id": "m1yca8fWTp9m"
      },
      "execution_count": 25,
      "outputs": []
    },
    {
      "cell_type": "code",
      "source": [
        "device = 'cuda' if torch.cuda.is_available() else 'cpu'\n",
        "model = SimpleGPT().to(device)\n",
        "optimizer = torch.optim.AdamW(model.parameters(), lr=1e-3)"
      ],
      "metadata": {
        "id": "-DsSZLFET7q4"
      },
      "execution_count": 26,
      "outputs": []
    },
    {
      "cell_type": "code",
      "source": [
        "max_iters = 2000\n",
        "eval_interval = 100\n",
        "batch_size = 32\n",
        "\n",
        "for step in range(max_iters):\n",
        "    # Değerlendirme\n",
        "    if step % eval_interval == 0:\n",
        "        model.eval()\n",
        "        with torch.no_grad():\n",
        "            xb, yb = get_batch(\"val\", batch_size)\n",
        "            xb, yb = xb.to(device), yb.to(device)\n",
        "            _, loss_val = model(xb, yb)\n",
        "        print(f\"Step {step}: Validation loss {loss_val.item():.4f}\")\n",
        "        model.train()\n",
        "\n",
        "    # Eğitim\n",
        "    xb, yb = get_batch(\"train\", batch_size)\n",
        "    xb, yb = xb.to(device), yb.to(device)\n",
        "\n",
        "    logits, loss = model(xb, yb)\n",
        "    optimizer.zero_grad()\n",
        "    loss.backward()\n",
        "    optimizer.step()\n"
      ],
      "metadata": {
        "colab": {
          "base_uri": "https://localhost:8080/"
        },
        "id": "ax9Vm5IDUhJE",
        "outputId": "2f9c9bac-893d-42bb-ab22-bb05a8ec46e5"
      },
      "execution_count": 27,
      "outputs": [
        {
          "output_type": "stream",
          "name": "stdout",
          "text": [
            "Step 0: Validation loss 4.3696\n",
            "Step 100: Validation loss 2.6404\n",
            "Step 200: Validation loss 2.5159\n",
            "Step 300: Validation loss 2.3308\n",
            "Step 400: Validation loss 2.3651\n",
            "Step 500: Validation loss 2.1749\n",
            "Step 600: Validation loss 2.1790\n",
            "Step 700: Validation loss 2.1742\n",
            "Step 800: Validation loss 2.1568\n",
            "Step 900: Validation loss 2.2235\n",
            "Step 1000: Validation loss 2.0497\n",
            "Step 1100: Validation loss 2.1661\n",
            "Step 1200: Validation loss 2.0563\n",
            "Step 1300: Validation loss 2.1030\n",
            "Step 1400: Validation loss 2.0046\n",
            "Step 1500: Validation loss 2.1396\n",
            "Step 1600: Validation loss 1.9917\n",
            "Step 1700: Validation loss 2.0731\n",
            "Step 1800: Validation loss 1.9541\n",
            "Step 1900: Validation loss 2.0780\n"
          ]
        }
      ]
    },
    {
      "cell_type": "code",
      "source": [
        "@torch.no_grad()\n",
        "def generate(idx, max_new_tokens):\n",
        "    model.eval()\n",
        "    for _ in range(max_new_tokens):\n",
        "        idx_cond = idx[:, -block_size:]  # son block_size token\n",
        "        logits, _ = model(idx_cond)\n",
        "        logits = logits[:, -1, :]  # son zaman adımındaki skorlar\n",
        "        probs = F.softmax(logits, dim=-1)\n",
        "        next_token = torch.multinomial(probs, num_samples=1)  # örnekleme\n",
        "        idx = torch.cat((idx, next_token), dim=1)\n",
        "    return idx\n"
      ],
      "metadata": {
        "id": "DKmDWDlPU2YV"
      },
      "execution_count": 28,
      "outputs": []
    },
    {
      "cell_type": "code",
      "source": [
        "context = torch.zeros((1, 1), dtype=torch.long, device=device)  # boş başlangıç (0)\n",
        "generated = generate(context, max_new_tokens=200)\n",
        "print(decode(generated[0].tolist()))\n"
      ],
      "metadata": {
        "colab": {
          "base_uri": "https://localhost:8080/"
        },
        "id": "7A7BWMZiU7hn",
        "outputId": "43eb2fce-e5df-4d8d-a26c-3b472c22e643"
      },
      "execution_count": 31,
      "outputs": [
        {
          "output_type": "stream",
          "name": "stdout",
          "text": [
            "\n",
            "Yüzünün atık,\n",
            "Yaprakların bir nelesin\n",
            "Ruh kışık zasmadan\n",
            "Bazen bir insin atmınca tıranmakka olukta\n",
            "\n",
            "AÇAKAMAN\n",
            "\n",
            "İstediğinde tıkıştır attaydar kurkular\n",
            "İçtebirde yersini yüzgarını anlam çıkan bir müjende\n"
          ]
        }
      ]
    },
    {
      "cell_type": "code",
      "source": [
        "#from google.colab import drive\n",
        "#drive.mount('/content/drive')"
      ],
      "metadata": {
        "id": "k3aUZ7m6CZzt"
      },
      "execution_count": null,
      "outputs": []
    }
  ]
}